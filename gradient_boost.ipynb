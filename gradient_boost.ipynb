{
 "cells": [
  {
   "cell_type": "code",
   "execution_count": 1,
   "id": "c1da8b93",
   "metadata": {},
   "outputs": [
    {
     "name": "stderr",
     "output_type": "stream",
     "text": [
      "C:\\Users\\sunny\\anaconda3\\lib\\site-packages\\scipy\\__init__.py:146: UserWarning: A NumPy version >=1.16.5 and <1.23.0 is required for this version of SciPy (detected version 1.26.4\n",
      "  warnings.warn(f\"A NumPy version >={np_minversion} and <{np_maxversion}\"\n"
     ]
    }
   ],
   "source": [
    "import yfinance as yf\n",
    "import pandas as pd\n",
    "import pandas_ta\n",
    "import matplotlib.pyplot as plt\n",
    "import numpy as np\n",
    "import random\n",
    "\n",
    "from sklearn.ensemble import RandomForestClassifier, GradientBoostingClassifier\n",
    "from sklearn.metrics import precision_score, accuracy_score\n",
    "from sklearn.model_selection import train_test_split\n",
    "from sklearn.model_selection import GridSearchCV\n",
    "from sklearn.preprocessing import StandardScaler\n"
   ]
  },
  {
   "cell_type": "code",
   "execution_count": 2,
   "id": "bd687d05",
   "metadata": {},
   "outputs": [],
   "source": [
    "snp500 = yf.Ticker(\"SPY\").history(period=\"max\") # all data for the GSPC index fund since 1927\n",
    "snp500.columns = snp500.columns.str.lower()\n"
   ]
  },
  {
   "cell_type": "code",
   "execution_count": 3,
   "id": "e34e9657",
   "metadata": {},
   "outputs": [
    {
     "data": {
      "text/plain": [
       "<AxesSubplot:xlabel='Date'>"
      ]
     },
     "execution_count": 3,
     "metadata": {},
     "output_type": "execute_result"
    },
    {
     "data": {
      "image/png": "[encoded data removed]",
      "text/plain": [
       "<Figure size 432x288 with 1 Axes>"
      ]
     },
     "metadata": {
      "needs_background": "light"
     },
     "output_type": "display_data"
    }
   ],
   "source": [
    "del snp500[\"dividends\"] # get rid of stock splits and dividends since this is an index fund\n",
    "del snp500[\"stock splits\"]\n",
    "\n",
    "snp500[\"tomorrow\"] = snp500[\"close\"].shift(-1) # make a column representing the closing price for the next day\n",
    "snp500[\"target\"] = (snp500[\"tomorrow\"] > snp500[\"close\"]).astype(int) # make a column for the direction of the stock (up or down)\n",
    "# \"target\" will be our y value\n",
    "\n",
    "snp500 = snp500.loc[\"1990-01-02\":].copy() # only considering data from 1990 onwards\n",
    "snp500.plot.line(y=\"close\", use_index=True)"
   ]
  },
  {
   "cell_type": "code",
   "execution_count": 4,
   "id": "40e26304",
   "metadata": {},
   "outputs": [],
   "source": [
    "# adding close ratios and trends columns for 2, 5, 10, 30, 60, 250, and 1000 trading days\n",
    "# these will be our predictors\n",
    "horizons = [2, 5, 10, 30, 60, 250, 1000]\n",
    "predictors = [f\"close_ratio_{horizon}\" for horizon in horizons] + [f\"trend_{horizon}\" for horizon in horizons]\n",
    "    \n",
    "\n",
    "\n",
    "def calculate_ratios_trends(data):\n",
    "    for horizon in horizons:\n",
    "        rolling_averages = data.rolling(horizon).mean()\n",
    "\n",
    "        ratio_column = f\"close_ratio_{horizon}\"\n",
    "        data[ratio_column] = data[\"close\"] / rolling_averages[\"close\"]\n",
    "\n",
    "        trend_column = f\"trend_{horizon}\"\n",
    "        data[trend_column] = data.shift(1).rolling(horizon).sum()[\"target\"]\n",
    "        \n",
    "    return data\n",
    "\n",
    "snp500 = calculate_ratios_trends(snp500).copy()\n",
    "mask = snp500.isnull().any(axis=1)\n",
    "mask.iloc[-1] = False  # Exclude the last row\n",
    "\n",
    "# Filter out rows with NaN values\n",
    "snp500 = snp500[~mask]"
   ]
  },
  {
   "cell_type": "code",
   "execution_count": 5,
   "id": "23bfba9b",
   "metadata": {},
   "outputs": [
    {
     "name": "stdout",
     "output_type": "stream",
     "text": [
      "(6889, 14) (6889, 22)\n"
     ]
    }
   ],
   "source": [
    "length_snp = len(snp500)\n",
    "train_test_split = 0.8 # 80% of the data will be used to train\n",
    "\n",
    "scaler = StandardScaler()\n",
    "snp500_scaled = scaler.fit_transform(snp500[predictors])\n",
    "\n",
    "snp500_train = snp500.iloc[0:int(length_snp * train_test_split)].copy()  # snp500.iloc[:-500].copy() \n",
    "snp500_test = snp500.iloc[int(length_snp * train_test_split):-1].copy()  # snp500.iloc[-500:].copy()\n",
    "snp500_last_row = snp500.iloc[[-1]]\n",
    "\n",
    "snp500_train_scaled = snp500_scaled[0:int(length_snp * train_test_split)] # scaler.fit_transform(snp500_train[predictors])\n",
    "snp500_test_scaled = snp500_scaled[int(length_snp * train_test_split):-1] # scaler.fit_transform(snp500_test[predictors])\n",
    "snp500_last_row_scaled = snp500_scaled[[-1]]\n",
    "\n",
    "print(snp500_scaled.shape, snp500.shape)"
   ]
  },
  {
   "cell_type": "code",
   "execution_count": 6,
   "id": "c125605b",
   "metadata": {},
   "outputs": [
    {
     "data": {
      "text/plain": [
       "GradientBoostingClassifier(n_estimators=300, random_state=42)"
      ]
     },
     "execution_count": 6,
     "metadata": {},
     "output_type": "execute_result"
    }
   ],
   "source": [
    "gb_model = GradientBoostingClassifier(n_estimators=300, learning_rate=0.1, max_depth=3, random_state=42)\n",
    "gb_model.fit(snp500_train_scaled, snp500_train[\"target\"])\n"
   ]
  },
  {
   "cell_type": "code",
   "execution_count": 7,
   "id": "c53a881e",
   "metadata": {},
   "outputs": [],
   "source": [
    "# generate predictions \n",
    "def generate_predictions(model, data, data_scaled, predictors, threshold=0.4):\n",
    "\n",
    "    predictions = model.predict_proba(data_scaled)[:, 1] # this will give us a probability, not a 1 or a 0\n",
    "    \n",
    "    predictions[predictions >= threshold] = 1 # set the threshold; if the probablity is over the threshold, only then we will count it\n",
    "    predictions[predictions < threshold] = 0\n",
    "\n",
    "    predictions = pd.Series(predictions, index=data.index, name=\"predictions\")\n",
    "\n",
    "    p_score = precision_score(data[\"target\"], predictions) # precision score, true positives divided by true + false positives\n",
    "    print(f\"Precision score for the split: {p_score}\")\n",
    "    \n",
    "    print(\"Total buy days %: \", predictions.sum() * 100 / len(predictions), \"%\") # percentage of days the model recommends to buy\n",
    "    \n",
    "    return predictions"
   ]
  },
  {
   "cell_type": "code",
   "execution_count": 8,
   "id": "dd11c1c0",
   "metadata": {},
   "outputs": [
    {
     "name": "stdout",
     "output_type": "stream",
     "text": [
      "Precision score for the split: 0.6048271630190223\n",
      "Total buy days %:  88.71348212665578 %\n",
      "Precision score for the split: 0.5629370629370629\n",
      "Total buy days %:  83.07915758896151 %\n"
     ]
    }
   ],
   "source": [
    "training_set_predictions = generate_predictions(gb_model, snp500_train, snp500_train_scaled, predictors) # training predictions (will be higher)\n",
    "testing_set_predictions = generate_predictions(gb_model, snp500_test, snp500_test_scaled, predictors) # testing predictions \n"
   ]
  },
  {
   "cell_type": "code",
   "execution_count": 9,
   "id": "63ee566c",
   "metadata": {},
   "outputs": [],
   "source": [
    "# this will simulate you buying and selling based on the model alone\n",
    "# this will simulate you buying everyday and selling everyday, regardless of what the model says\n",
    "# model will be the random forest classifier, start and end date are self explanatory, starting_total will be the \n",
    "# amount of money you start with, percentage_traded_per_day will be the percentage of money traded everyday, and\n",
    "# predictors will be the the predictors we came up with earlier.\n",
    "def simulate_paper_trading(model, start_date, end_date, starting_total, \n",
    "                           percentage_traded_per_day, predictors, dataset=None, dataset_scaled=None):\n",
    "    total = starting_total\n",
    "    start_date_int, end_date_int = \"\", \"\"\n",
    "    \n",
    "    if dataset is None:\n",
    "        try:\n",
    "            start_date_int = snp500.index.get_loc(start_date) \n",
    "        except Exception as e:\n",
    "            print(\"Start date is a non-trading day. Please enter a valid trading day.\")\n",
    "            return\n",
    "        try:\n",
    "            end_date_int = snp500.index.get_loc(end_date)   \n",
    "        except Exception as e:\n",
    "            print(\"Start date is a non-trading day. Please enter a valid trading day.\")\n",
    "            return\n",
    "    \n",
    "    # if you provide the dataset, ignore the start and end date\n",
    "    dataset = snp500.iloc[start_date_int:end_date_int + 1].copy() if dataset is None else dataset\n",
    "    predictions = generate_predictions(model, dataset, dataset_scaled, predictors)\n",
    "    \n",
    "    for i in range(len(predictions)):\n",
    "        current_stock_price = dataset.iloc[i][\"close\"]\n",
    "        if predictions[i] == 1:\n",
    "            day_profit = ((dataset.iloc[i][\"tomorrow\"] - dataset.iloc[i][\"close\"]) \n",
    "                          * ((percentage_traded_per_day * total) / current_stock_price))\n",
    "            total += day_profit\n",
    "            \n",
    "            \n",
    "    print(f\"Total amount after trading via algorithm: {total}\")\n",
    "    \n",
    "    total = starting_total\n",
    "    \n",
    "    for i in range(len(predictions)):\n",
    "        current_stock_price = dataset.iloc[i][\"close\"]\n",
    "        day_profit = ((dataset.iloc[i][\"tomorrow\"] - dataset.iloc[i][\"close\"]) \n",
    "                      * ((percentage_traded_per_day * total) / current_stock_price))\n",
    "        total += day_profit\n",
    "        \n",
    "    print(f\"Total amount from buying and selling everyday without pattern: {total}\")"
   ]
  },
  {
   "cell_type": "code",
   "execution_count": 10,
   "id": "9a0db8e6",
   "metadata": {},
   "outputs": [
    {
     "name": "stdout",
     "output_type": "stream",
     "text": [
      "Precision score for the split: 0.5629370629370629\n",
      "Total buy days %:  83.07915758896151 %\n",
      "Total amount after trading via algorithm: 33379.956338933865\n",
      "Total amount from buying and selling everyday without pattern: 21348.99929347907\n"
     ]
    }
   ],
   "source": [
    "start_date = \"2022-05-03\" # ignore if the dataset is already provided\n",
    "end_date = \"2024-05-01\" # ignore if the dataset is already provided\n",
    "starting_total = 10000\n",
    "percentage_traded_per_day = 1 # fraction of your total you trade with; stick with 1 since we always give 100% into everything we do, even gambling\n",
    "simulate_paper_trading(gb_model, start_date, end_date, starting_total, \n",
    "                       percentage_traded_per_day, predictors, dataset=snp500_test, dataset_scaled=snp500_test_scaled)\n"
   ]
  },
  {
   "cell_type": "code",
   "execution_count": 11,
   "id": "8e5fa84f",
   "metadata": {},
   "outputs": [
    {
     "data": {
      "text/plain": [
       "array([0.56616382])"
      ]
     },
     "execution_count": 11,
     "metadata": {},
     "output_type": "execute_result"
    }
   ],
   "source": [
    "def predict_next_day():\n",
    "    data = np.vstack((snp500_train_scaled, snp500_test_scaled))\n",
    "    gb_model.fit(data, snp500.iloc[:-1][\"target\"])\n",
    "    prediction = gb_model.predict_proba(snp500_last_row_scaled)[:, 1]\n",
    "    return prediction\n",
    "\n",
    "predict_next_day()"
   ]
  },
  {
   "cell_type": "code",
   "execution_count": null,
   "id": "9b8f12d0",
   "metadata": {},
   "outputs": [],
   "source": []
  },
  {
   "cell_type": "code",
   "execution_count": null,
   "id": "d036dcac",
   "metadata": {},
   "outputs": [],
   "source": []
  },
  {
   "cell_type": "code",
   "execution_count": null,
   "id": "91afb996",
   "metadata": {},
   "outputs": [],
   "source": []
  }
 ],
 "metadata": {
  "kernelspec": {
   "display_name": "Python 3 (ipykernel)",
   "language": "python",
   "name": "python3"
  },
  "language_info": {
   "codemirror_mode": {
    "name": "ipython",
    "version": 3
   },
   "file_extension": ".py",
   "mimetype": "text/x-python",
   "name": "python",
   "nbconvert_exporter": "python",
   "pygments_lexer": "ipython3",
   "version": "3.9.12"
  }
 },
 "nbformat": 4,
 "nbformat_minor": 5
}
