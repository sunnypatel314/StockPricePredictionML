{
 "cells": [
  {
   "cell_type": "code",
   "execution_count": 109,
   "id": "dbbcdc0e",
   "metadata": {},
   "outputs": [],
   "source": [
    "import yfinance as yf\n",
    "import pandas as pd\n",
    "import pandas_ta\n",
    "import matplotlib.pyplot as plt\n",
    "import numpy as np\n",
    "import random\n",
    "\n",
    "from sklearn.ensemble import RandomForestClassifier, GradientBoostingClassifier\n",
    "from sklearn.metrics import precision_score, accuracy_score\n",
    "from sklearn.model_selection import train_test_split\n",
    "from sklearn.model_selection import GridSearchCV\n",
    "from sklearn.preprocessing import StandardScaler\n"
   ]
  },
  {
   "cell_type": "code",
   "execution_count": 110,
   "id": "e6f87772",
   "metadata": {},
   "outputs": [],
   "source": [
    "snp500 = yf.Ticker(\"spy\").history(period=\"max\") # all data for the GSPC index fund since 1927\n",
    "snp500.columns = snp500.columns.str.lower()"
   ]
  },
  {
   "cell_type": "code",
   "execution_count": 111,
   "id": "4388d577",
   "metadata": {},
   "outputs": [
    {
     "data": {
      "text/plain": [
       "<AxesSubplot:xlabel='Date'>"
      ]
     },
     "execution_count": 111,
     "metadata": {},
     "output_type": "execute_result"
    },
    {
     "data": {
      "image/png": "[encoded data removed]",
      "text/plain": [
       "<Figure size 432x288 with 1 Axes>"
      ]
     },
     "metadata": {
      "needs_background": "light"
     },
     "output_type": "display_data"
    }
   ],
   "source": [
    "del snp500[\"dividends\"] # get rid of stock splits and dividends since this is an index fund\n",
    "del snp500[\"stock splits\"]\n",
    "\n",
    "snp500[\"tomorrow\"] = snp500[\"close\"].shift(-1) # make a column representing the closing price for the next day\n",
    "snp500[\"target\"] = (snp500[\"tomorrow\"] > snp500[\"close\"]).astype(int) # make a column for the direction of the stock (up or down)\n",
    "# \"target\" will be our y value\n",
    "\n",
    "snp500 = snp500.loc[\"2020-01-02\":].copy() # only considering data from 1990 onwards\n",
    "snp500.plot.line(y=\"close\", use_index=True)"
   ]
  },
  {
   "cell_type": "code",
   "execution_count": 112,
   "id": "47456f11",
   "metadata": {},
   "outputs": [],
   "source": [
    "# ignore all this; I checked other metrics and technical indicators but none of them really work\n",
    "# snp500['garman_klass_vol'] = (((np.log(snp500['high'])-np.log(snp500['low']))**2)/\n",
    "#                               2-(2*np.log(2)-1)*((np.log(snp500['close'])-np.log(snp500['open']))**2))\n",
    "\n",
    "# snp500['rsi'] = pandas_ta.rsi(snp500[\"close\"], length=20)\n",
    "\n",
    "# snp500[\"bbands_low\"] = pandas_ta.bbands(snp500[\"close\"], length=20).iloc[:, 0]\n",
    "\n",
    "# snp500[\"bbands_mid\"] = pandas_ta.bbands(snp500[\"close\"], length=20).iloc[:, 1]\n",
    "\n",
    "# snp500[\"bbands_high\"] = pandas_ta.bbands(snp500[\"close\"], length=20).iloc[:, 2]\n",
    "\n",
    "# snp500[\"atr\"] = pandas_ta.atr(high=snp500['high'],\n",
    "#                         low=snp500['low'],\n",
    "#                         close=snp500['close'],\n",
    "#                         length=14)\n",
    "# snp500['dollar_volume'] = (snp500['close']*snp500['volume'])/1e6\n",
    "\n",
    "# snp500 = snp500.dropna().copy()"
   ]
  },
  {
   "cell_type": "code",
   "execution_count": 113,
   "id": "49b95bc5",
   "metadata": {},
   "outputs": [],
   "source": [
    "# adding close ratios and trends columns for 2, 5, 10, 30, 60, 250, and 1000 trading days\n",
    "# these will be our predictors\n",
    "horizons = [2, 5, 10, 30, 60, 250, 1000]\n",
    "predictors = []\n",
    "\n",
    "def calculate_ratios_trends(data):\n",
    "    p = []\n",
    "    for horizon in horizons:\n",
    "        rolling_averages = data.rolling(horizon).mean()\n",
    "\n",
    "        ratio_column = f\"close_ratio_{horizon}\"\n",
    "        data[ratio_column] = data[\"close\"] / rolling_averages[\"close\"]\n",
    "\n",
    "        trend_column = f\"trend_{horizon}\"\n",
    "        data[trend_column] = data.shift(1).rolling(horizon).sum()[\"target\"]\n",
    "        p += [ratio_column, trend_column]\n",
    "        \n",
    "    return (data, p)\n",
    "\n",
    "snp500 = calculate_ratios_trends(snp500)[0].copy()\n",
    "predictors = calculate_ratios_trends(snp500)[1]\n",
    "snp500_last_row = snp500.iloc[[-1]]\n",
    "snp500 = snp500.dropna()"
   ]
  },
  {
   "cell_type": "code",
   "execution_count": 114,
   "id": "c5835394",
   "metadata": {},
   "outputs": [],
   "source": [
    "length_snp = len(snp500)\n",
    "train_test_split = 0.8 # 80% of the data will be used to train\n",
    "\n",
    "snp500_train = snp500.iloc[0:int(length_snp * train_test_split)].copy()  \n",
    "snp500_test = snp500.iloc[int(length_snp * train_test_split):].copy()  \n",
    "\n",
    "# snp500_train = snp500.iloc[:-14].copy() \n",
    "# snp500_test = snp500.iloc[-14:].copy()\n",
    "\n",
    "# scaler = StandardScaler()\n",
    "# snp500_train_scaled = scaler.fit_transform(snp500_train[predictors])\n",
    "# snp500_test_scaled = scaler.fit_transform(snp500_test[predictors])"
   ]
  },
  {
   "cell_type": "code",
   "execution_count": 115,
   "id": "d0dfdf6d",
   "metadata": {},
   "outputs": [
    {
     "data": {
      "text/plain": [
       "RandomForestClassifier(max_depth=10, min_samples_leaf=2, n_estimators=300,\n",
       "                       random_state=42)"
      ]
     },
     "execution_count": 115,
     "metadata": {},
     "output_type": "execute_result"
    }
   ],
   "source": [
    "rfc_model = RandomForestClassifier(n_estimators=300, min_samples_split=2, min_samples_leaf=2, \n",
    "                               max_depth=10, max_features=\"auto\", random_state=42) # rfc model\n",
    "rfc_model.fit(snp500_train[predictors], snp500_train[\"target\"])\n",
    "# best parameters: 'max_depth': 10, 'max_features': 'auto', 'min_samples_leaf': 2, 'min_samples_split': 2, 'n_estimators': 300\n"
   ]
  },
  {
   "cell_type": "code",
   "execution_count": 116,
   "id": "bd5c59a9",
   "metadata": {},
   "outputs": [],
   "source": [
    "# generate predictions \n",
    "def generate_predictions(model, data, predictors, threshold=0.5):\n",
    "\n",
    "    predictions = model.predict_proba(data[predictors])[:, 1] # this will give us a probability, not a 1 or a 0\n",
    "    \n",
    "    predictions[predictions >= threshold] = 1 # set the threshold; if the probablity is over the threshold, only then we will count it\n",
    "    predictions[predictions < threshold] = 0\n",
    "\n",
    "    predictions = pd.Series(predictions, index=data.index, name=\"predictions\")\n",
    "\n",
    "    p_score = precision_score(data[\"target\"], predictions) # precision score, true positives divided by true + false positives\n",
    "    print(f\"Precision score for the split: {p_score}\")\n",
    "    \n",
    "    print(\"Total buy days %: \", predictions.sum() * 100 / len(predictions), \"%\") # percentage of days the model recommends to buy\n",
    "    \n",
    "    return predictions\n"
   ]
  },
  {
   "cell_type": "code",
   "execution_count": 117,
   "id": "b0a5d008",
   "metadata": {},
   "outputs": [
    {
     "name": "stdout",
     "output_type": "stream",
     "text": [
      "Precision score for the split: 1.0\n",
      "Total buy days %:  50.588235294117645 %\n",
      "Precision score for the split: 0.5\n",
      "Total buy days %:  9.090909090909092 %\n"
     ]
    }
   ],
   "source": [
    "training_set_predictions = generate_predictions(rfc_model, snp500_train, predictors) # training predictions (will be higher)\n",
    "testing_set_predictions = generate_predictions(rfc_model, snp500_test, predictors) # testing predictions \n"
   ]
  },
  {
   "cell_type": "code",
   "execution_count": 118,
   "id": "2e2d60ed",
   "metadata": {},
   "outputs": [],
   "source": [
    "# this will simulate you buying and selling based on the model alone\n",
    "# this will simulate you buying everyday and selling everyday, regardless of what the model says\n",
    "# model will be the random forest classifier, start and end date are self explanatory, starting_total will be the \n",
    "# amount of money you start with, percentage_traded_per_day will be the percentage of money traded everyday, and\n",
    "# predictors will be the the predictors we came up with earlier.\n",
    "def simulate_paper_trading(model, start_date, end_date, starting_total, \n",
    "                           percentage_traded_per_day, predictors, dataset=None):\n",
    "    total = starting_total\n",
    "    start_date_int, end_date_int = \"\", \"\"\n",
    "    \n",
    "    if dataset is None:\n",
    "        try:\n",
    "            start_date_int = snp500.index.get_loc(start_date) \n",
    "        except Exception as e:\n",
    "            print(\"Start date is a non-trading day. Please enter a valid trading day.\")\n",
    "            return\n",
    "        try:\n",
    "            end_date_int = snp500.index.get_loc(end_date)   \n",
    "        except Exception as e:\n",
    "            print(\"Start date is a non-trading day. Please enter a valid trading day.\")\n",
    "            return\n",
    "    \n",
    "    # if you provide the dataset, ignore the start and end date\n",
    "    dataset = snp500.iloc[start_date_int:end_date_int + 1].copy() if dataset is None else dataset\n",
    "    predictions = generate_predictions(model, dataset, predictors)\n",
    "    \n",
    "    for i in range(len(predictions)):\n",
    "        current_stock_price = dataset.iloc[i][\"close\"]\n",
    "        if predictions[i] == 1:\n",
    "            day_profit = ((dataset.iloc[i][\"tomorrow\"] - dataset.iloc[i][\"close\"]) \n",
    "                          * ((percentage_traded_per_day * total) / current_stock_price))\n",
    "            total += day_profit\n",
    "            \n",
    "            \n",
    "    print(f\"Total amount after trading via algorithm: {total}\")\n",
    "    \n",
    "    total = starting_total\n",
    "    \n",
    "    for i in range(len(predictions)):\n",
    "        current_stock_price = dataset.iloc[i][\"close\"]\n",
    "        day_profit = ((dataset.iloc[i][\"tomorrow\"] - dataset.iloc[i][\"close\"]) \n",
    "                      * ((percentage_traded_per_day * total) / current_stock_price))\n",
    "        total += day_profit\n",
    "        \n",
    "    print(f\"Total amount from buying and selling everyday without pattern: {total}\")"
   ]
  },
  {
   "cell_type": "code",
   "execution_count": 119,
   "id": "15a0c11d",
   "metadata": {},
   "outputs": [
    {
     "name": "stdout",
     "output_type": "stream",
     "text": [
      "Precision score for the split: 0.5\n",
      "Total buy days %:  9.090909090909092 %\n",
      "Total amount after trading via algorithm: 10064.643000168613\n",
      "Total amount from buying and selling everyday without pattern: 10513.813494189722\n"
     ]
    }
   ],
   "source": [
    "start_date = \"2022-05-03\" # ignore if the dataset is already provided\n",
    "end_date = \"2024-05-01\" # ignore if the dataset is already provided\n",
    "starting_total = 10000\n",
    "percentage_traded_per_day = 1 # fraction of your total you trade with; stick with 1 since we always give 100% into everything we do, even gambling\n",
    "simulate_paper_trading(rfc_model, start_date, end_date, starting_total, \n",
    "                       percentage_traded_per_day, predictors, dataset=snp500_test)\n"
   ]
  },
  {
   "cell_type": "code",
   "execution_count": 120,
   "id": "bf80e9d6",
   "metadata": {},
   "outputs": [
    {
     "data": {
      "text/plain": [
       "array([0.55127233])"
      ]
     },
     "execution_count": 120,
     "metadata": {},
     "output_type": "execute_result"
    }
   ],
   "source": [
    "def predict_next_day():\n",
    "    data = pd.concat([snp500_train, snp500_test], axis=0)\n",
    "    rfc_model.fit(data[predictors], data[\"target\"])\n",
    "    prediction = rfc_model.predict_proba(snp500_last_row[predictors])[:, 1]\n",
    "    return prediction\n",
    "\n",
    "predict_next_day()"
   ]
  },
  {
   "cell_type": "code",
   "execution_count": 121,
   "id": "a5bd04ee",
   "metadata": {},
   "outputs": [
    {
     "data": {
      "text/html": [
       "<div>\n",
       "<style scoped>\n",
       "    .dataframe tbody tr th:only-of-type {\n",
       "        vertical-align: middle;\n",
       "    }\n",
       "\n",
       "    .dataframe tbody tr th {\n",
       "        vertical-align: top;\n",
       "    }\n",
       "\n",
       "    .dataframe thead th {\n",
       "        text-align: right;\n",
       "    }\n",
       "</style>\n",
       "<table border=\"1\" class=\"dataframe\">\n",
       "  <thead>\n",
       "    <tr style=\"text-align: right;\">\n",
       "      <th></th>\n",
       "      <th>open</th>\n",
       "      <th>high</th>\n",
       "      <th>low</th>\n",
       "      <th>close</th>\n",
       "      <th>volume</th>\n",
       "      <th>capital gains</th>\n",
       "      <th>tomorrow</th>\n",
       "      <th>target</th>\n",
       "      <th>close_ratio_2</th>\n",
       "      <th>trend_2</th>\n",
       "      <th>...</th>\n",
       "      <th>close_ratio_10</th>\n",
       "      <th>trend_10</th>\n",
       "      <th>close_ratio_30</th>\n",
       "      <th>trend_30</th>\n",
       "      <th>close_ratio_60</th>\n",
       "      <th>trend_60</th>\n",
       "      <th>close_ratio_250</th>\n",
       "      <th>trend_250</th>\n",
       "      <th>close_ratio_1000</th>\n",
       "      <th>trend_1000</th>\n",
       "    </tr>\n",
       "    <tr>\n",
       "      <th>Date</th>\n",
       "      <th></th>\n",
       "      <th></th>\n",
       "      <th></th>\n",
       "      <th></th>\n",
       "      <th></th>\n",
       "      <th></th>\n",
       "      <th></th>\n",
       "      <th></th>\n",
       "      <th></th>\n",
       "      <th></th>\n",
       "      <th></th>\n",
       "      <th></th>\n",
       "      <th></th>\n",
       "      <th></th>\n",
       "      <th></th>\n",
       "      <th></th>\n",
       "      <th></th>\n",
       "      <th></th>\n",
       "      <th></th>\n",
       "      <th></th>\n",
       "      <th></th>\n",
       "    </tr>\n",
       "  </thead>\n",
       "  <tbody>\n",
       "    <tr>\n",
       "      <th>2024-05-28 00:00:00-04:00</th>\n",
       "      <td>530.27002</td>\n",
       "      <td>530.5</td>\n",
       "      <td>529.0</td>\n",
       "      <td>529.359985</td>\n",
       "      <td>12642443</td>\n",
       "      <td>0.0</td>\n",
       "      <td>NaN</td>\n",
       "      <td>0</td>\n",
       "      <td>0.999924</td>\n",
       "      <td>1.0</td>\n",
       "      <td>...</td>\n",
       "      <td>1.001205</td>\n",
       "      <td>6.0</td>\n",
       "      <td>1.02788</td>\n",
       "      <td>18.0</td>\n",
       "      <td>1.027386</td>\n",
       "      <td>31.0</td>\n",
       "      <td>1.136483</td>\n",
       "      <td>141.0</td>\n",
       "      <td>1.302481</td>\n",
       "      <td>537.0</td>\n",
       "    </tr>\n",
       "  </tbody>\n",
       "</table>\n",
       "<p>1 rows × 22 columns</p>\n",
       "</div>"
      ],
      "text/plain": [
       "                                open   high    low       close    volume  \\\n",
       "Date                                                                       \n",
       "2024-05-28 00:00:00-04:00  530.27002  530.5  529.0  529.359985  12642443   \n",
       "\n",
       "                           capital gains  tomorrow  target  close_ratio_2  \\\n",
       "Date                                                                        \n",
       "2024-05-28 00:00:00-04:00            0.0       NaN       0       0.999924   \n",
       "\n",
       "                           trend_2  ...  close_ratio_10  trend_10  \\\n",
       "Date                                ...                             \n",
       "2024-05-28 00:00:00-04:00      1.0  ...        1.001205       6.0   \n",
       "\n",
       "                           close_ratio_30  trend_30  close_ratio_60  trend_60  \\\n",
       "Date                                                                            \n",
       "2024-05-28 00:00:00-04:00         1.02788      18.0        1.027386      31.0   \n",
       "\n",
       "                           close_ratio_250  trend_250  close_ratio_1000  \\\n",
       "Date                                                                      \n",
       "2024-05-28 00:00:00-04:00         1.136483      141.0          1.302481   \n",
       "\n",
       "                           trend_1000  \n",
       "Date                                   \n",
       "2024-05-28 00:00:00-04:00       537.0  \n",
       "\n",
       "[1 rows x 22 columns]"
      ]
     },
     "execution_count": 121,
     "metadata": {},
     "output_type": "execute_result"
    }
   ],
   "source": [
    "snp500_last_row"
   ]
  },
  {
   "cell_type": "code",
   "execution_count": 122,
   "id": "75c50995",
   "metadata": {},
   "outputs": [
    {
     "data": {
      "text/plain": [
       "1    60\n",
       "0    47\n",
       "Name: target, dtype: int64"
      ]
     },
     "execution_count": 122,
     "metadata": {},
     "output_type": "execute_result"
    }
   ],
   "source": [
    "snp500[\"target\"].value_counts()"
   ]
  },
  {
   "cell_type": "code",
   "execution_count": null,
   "id": "e4e766c4",
   "metadata": {},
   "outputs": [],
   "source": []
  }
 ],
 "metadata": {
  "kernelspec": {
   "display_name": "Python 3 (ipykernel)",
   "language": "python",
   "name": "python3"
  },
  "language_info": {
   "codemirror_mode": {
    "name": "ipython",
    "version": 3
   },
   "file_extension": ".py",
   "mimetype": "text/x-python",
   "name": "python",
   "nbconvert_exporter": "python",
   "pygments_lexer": "ipython3",
   "version": "3.9.12"
  }
 },
 "nbformat": 4,
 "nbformat_minor": 5
}
